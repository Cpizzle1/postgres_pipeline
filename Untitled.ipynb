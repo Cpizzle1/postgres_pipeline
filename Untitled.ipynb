{
 "cells": [
  {
   "cell_type": "code",
   "execution_count": 1,
   "id": "e4e44ade",
   "metadata": {},
   "outputs": [],
   "source": [
    "import pandas as pd"
   ]
  },
  {
   "cell_type": "code",
   "execution_count": 2,
   "id": "7b3cb497",
   "metadata": {},
   "outputs": [],
   "source": [
    "# import pandas as pd\n",
    "# import boto3\n",
    "# from io import StringIO\n",
    "\n",
    "# # Your AWS credentials (if not set up in environment variables or AWS CLI)\n",
    "# aws_access_key_id = 'YOUR_ACCESS_KEY'\n",
    "# aws_secret_access_key = 'YOUR_SECRET_KEY'\n",
    "\n",
    "# # Create a client to interact with AWS S3\n",
    "# s3_client = boto3.client('s3', \n",
    "#                          aws_access_key_id=aws_access_key_id, \n",
    "#                          aws_secret_access_key=aws_secret_access_key)\n",
    "\n",
    "# bucket_name = 'your-bucket-name'  # replace with your bucket name\n",
    "# file_name = 'your-file-name.csv'  # replace with your file name\n",
    "# object_key = 'path/to/your/file.csv'  # path in your bucket\n",
    "\n",
    "# # Get the object from S3\n",
    "# obj = s3_client.get_object(Bucket=bucket_name, Key=object_key)\n",
    "# data = obj['Body'].read().decode('utf-8')\n",
    "\n",
    "# # Create a Pandas DataFrame from the CSV\n",
    "# df = pd.read_csv(StringIO(data))\n",
    "\n",
    "# # Now, you can use the DataFrame 'df' as usual\n",
    "# print(df.head())"
   ]
  },
  {
   "cell_type": "code",
   "execution_count": 3,
   "id": "4eea1098",
   "metadata": {},
   "outputs": [],
   "source": [
    "import pandas as pd\n",
    "import boto3\n",
    "from io import StringIO\n",
    "import numpy as np\n",
    "import warnings\n",
    "warnings.filterwarnings('ignore')\n",
    "import matplotlib.pyplot as plt\n",
    "%matplotlib inline\n",
    "# Assuming AWS credentials are set in environment variables,\n",
    "# we can create a Boto3 client without explicitly providing access keys\n",
    "s3_client = boto3.client('s3')\n",
    "\n",
    "bucket_name = 'cp-buckets'  # Replace with your bucket name\n",
    "object_key = 'StarWars/StarWars.csv'  # Replace with the path to your file in the bucket\n",
    "\n",
    "# Get the object from S3\n",
    "obj = s3_client.get_object(Bucket=bucket_name, Key=object_key)\n",
    "# data = obj['Body'].read().decode('utf-8')\n",
    "data = obj['Body'].read().decode('latin-1')\n",
    "# Create a Pandas DataFrame from the CSV\n",
    "starwars = pd.read_csv(StringIO(data))\n",
    "\n",
    "# Now, you can use the DataFrame 'df' as usual\n",
    "# print(df.head())"
   ]
  },
  {
   "cell_type": "code",
   "execution_count": 4,
   "id": "95b4a761",
   "metadata": {},
   "outputs": [],
   "source": [
    "starwars.rename(columns={'Which of the following Star Wars films have you seen? Please select all that apply.' : 'Watched|Movie1',\n",
    "                        'Unnamed: 4' : 'Watched|Movie2',\n",
    "                        'Unnamed: 5' : 'Watched|Movie3',\n",
    "                        'Unnamed: 6' : 'Watched|Movie4',\n",
    "                        'Unnamed: 7' : 'Watched|Movie5',\n",
    "                        'Unnamed: 8' : 'Watched|Movie6',\n",
    "                        'Please rank the Star Wars films in order of preference with 1 being your favorite film in the franchise and 6 being your least favorite film.' : 'Rank|Movie1',\n",
    "                        'Unnamed: 10' : 'Rank|Movie2',\n",
    "                        'Unnamed: 11' : 'Rank|Movie3',\n",
    "                        'Unnamed: 12' : 'Rank|Movie4',\n",
    "                        'Unnamed: 13' : 'Rank|Movie5',\n",
    "                        'Unnamed: 14' : 'Rank|Movie6',\n",
    "                        'Please state whether you view the following characters favorably, unfavorably, or are unfamiliar with him/her.' : 'Familiarity|Han Solo',\n",
    "                        'Unnamed: 16' : 'Familiarity|Luke Skywalker',\n",
    "                        'Unnamed: 17' : 'Familiarity|Princess Leia Organa',\n",
    "                        'Unnamed: 18' : 'Familiarity|Anakin Skywalker',\n",
    "                        'Unnamed: 19' : 'Familiarity|Obi Wan Kenobi',\n",
    "                        'Unnamed: 20' : 'Familiarity|Emperor Palpatine',\n",
    "                        'Unnamed: 21' : 'Familiarity|Darth Vader',\n",
    "                        'Unnamed: 22' : 'Familiarity|Lando Calrissian',\n",
    "                        'Unnamed: 23' : 'Familiarity|Boba Fett',\n",
    "                        'Unnamed: 24' : 'Familiarity|C-3P0',\n",
    "                        'Unnamed: 25' : 'Familiarity|R2 D2',\n",
    "                        'Unnamed: 26' : 'Familiarity|Jar Jar Binks',\n",
    "                        'Unnamed: 27' : 'Familiarity|Padme Amidala',\n",
    "                        'Unnamed: 28' : 'Familiarity|Yoda'},inplace = True)"
   ]
  },
  {
   "cell_type": "code",
   "execution_count": 5,
   "id": "3955dfdf",
   "metadata": {},
   "outputs": [],
   "source": [
    "starwars.drop([0],inplace = True)"
   ]
  },
  {
   "cell_type": "code",
   "execution_count": 6,
   "id": "d7371dd1",
   "metadata": {},
   "outputs": [],
   "source": [
    "starwars[(starwars.select_dtypes(['object'])).columns] = starwars.select_dtypes(['object']).apply(lambda x: x.str.upper())"
   ]
  },
  {
   "cell_type": "code",
   "execution_count": 7,
   "id": "86eb4c8c",
   "metadata": {},
   "outputs": [],
   "source": [
    "starwars[(starwars.select_dtypes(['object'])).columns] = starwars.select_dtypes(['object']).apply(lambda x: x.str.strip())"
   ]
  },
  {
   "cell_type": "code",
   "execution_count": 8,
   "id": "d92f1190",
   "metadata": {},
   "outputs": [],
   "source": [
    "typos = {'YESS': 'YES',    \n",
    "         'NOO':'NO',  \n",
    "         'F':'FEMALE'}\n",
    "starwars[(starwars.select_dtypes(['object'])).columns] = starwars.select_dtypes(['object']).apply(lambda x: x.replace(typos))"
   ]
  },
  {
   "cell_type": "code",
   "execution_count": 9,
   "id": "97c09412",
   "metadata": {},
   "outputs": [],
   "source": [
    "starwars.rename({'Do you consider yourself to be a fan of the Expanded Universe?\\x8cæ' : 'Do you consider yourself to be a fan of the Expanded Universe?'},inplace = True)"
   ]
  },
  {
   "cell_type": "code",
   "execution_count": 10,
   "id": "7e57fc88",
   "metadata": {},
   "outputs": [],
   "source": [
    "starwars['Age'].replace('500','45-60',inplace = True)"
   ]
  },
  {
   "cell_type": "code",
   "execution_count": 11,
   "id": "7bac72c7",
   "metadata": {},
   "outputs": [],
   "source": [
    "for col in 'Watched|Movie1','Watched|Movie2','Watched|Movie3','Watched|Movie4','Watched|Movie5','Watched|Movie6':\n",
    "    starwars[col] = ~starwars[col].isna()"
   ]
  },
  {
   "cell_type": "code",
   "execution_count": 12,
   "id": "7d7d35de",
   "metadata": {},
   "outputs": [
    {
     "name": "stdout",
     "output_type": "stream",
     "text": [
      "465\n"
     ]
    }
   ],
   "source": [
    "lst = []\n",
    "for index, row in starwars.iterrows():\n",
    "    if(row[1] == 'YES'):\n",
    "        if(row[3]* row[4] * row[5] * row[6] * row[7] * row[8]== False):\n",
    "            lst.append(index)\n",
    "            \n",
    "print(len(lst))"
   ]
  },
  {
   "cell_type": "code",
   "execution_count": 13,
   "id": "e7825da8",
   "metadata": {},
   "outputs": [],
   "source": [
    "starwars = starwars.drop(lst)\n",
    "starwars = starwars[starwars['Do you consider yourself to be a fan of the Star Wars film franchise?'].notna()]"
   ]
  },
  {
   "cell_type": "code",
   "execution_count": 14,
   "id": "e71e77cd",
   "metadata": {},
   "outputs": [
    {
     "data": {
      "text/html": [
       "<div>\n",
       "<style scoped>\n",
       "    .dataframe tbody tr th:only-of-type {\n",
       "        vertical-align: middle;\n",
       "    }\n",
       "\n",
       "    .dataframe tbody tr th {\n",
       "        vertical-align: top;\n",
       "    }\n",
       "\n",
       "    .dataframe thead th {\n",
       "        text-align: right;\n",
       "    }\n",
       "</style>\n",
       "<table border=\"1\" class=\"dataframe\">\n",
       "  <thead>\n",
       "    <tr style=\"text-align: right;\">\n",
       "      <th></th>\n",
       "      <th>Familiarity|Han Solo</th>\n",
       "      <th>Familiarity|Luke Skywalker</th>\n",
       "      <th>Familiarity|Princess Leia Organa</th>\n",
       "      <th>Familiarity|Anakin Skywalker</th>\n",
       "      <th>Familiarity|Obi Wan Kenobi</th>\n",
       "      <th>Familiarity|Emperor Palpatine</th>\n",
       "      <th>Familiarity|Darth Vader</th>\n",
       "      <th>Familiarity|Lando Calrissian</th>\n",
       "      <th>Familiarity|Boba Fett</th>\n",
       "      <th>Familiarity|C-3P0</th>\n",
       "      <th>...</th>\n",
       "      <th>Familiarity|Yoda</th>\n",
       "      <th>Which character shot first?</th>\n",
       "      <th>Are you familiar with the Expanded Universe?</th>\n",
       "      <th>Do you consider yourself to be a fan of the Expanded Universe?æ</th>\n",
       "      <th>Do you consider yourself to be a fan of the Star Trek franchise?</th>\n",
       "      <th>Gender</th>\n",
       "      <th>Age</th>\n",
       "      <th>Household Income</th>\n",
       "      <th>Education</th>\n",
       "      <th>Location (Census Region)</th>\n",
       "    </tr>\n",
       "  </thead>\n",
       "  <tbody>\n",
       "    <tr>\n",
       "      <th>1</th>\n",
       "      <td>VERY FAVORABLY</td>\n",
       "      <td>VERY FAVORABLY</td>\n",
       "      <td>VERY FAVORABLY</td>\n",
       "      <td>VERY FAVORABLY</td>\n",
       "      <td>VERY FAVORABLY</td>\n",
       "      <td>VERY FAVORABLY</td>\n",
       "      <td>VERY FAVORABLY</td>\n",
       "      <td>UNFAMILIAR (N/A)</td>\n",
       "      <td>UNFAMILIAR (N/A)</td>\n",
       "      <td>VERY FAVORABLY</td>\n",
       "      <td>...</td>\n",
       "      <td>VERY FAVORABLY</td>\n",
       "      <td>I DON'T UNDERSTAND THIS QUESTION</td>\n",
       "      <td>YES</td>\n",
       "      <td>NO</td>\n",
       "      <td>NO</td>\n",
       "      <td>MALE</td>\n",
       "      <td>18-29</td>\n",
       "      <td>NaN</td>\n",
       "      <td>HIGH SCHOOL DEGREE</td>\n",
       "      <td>SOUTH ATLANTIC</td>\n",
       "    </tr>\n",
       "    <tr>\n",
       "      <th>4</th>\n",
       "      <td>VERY FAVORABLY</td>\n",
       "      <td>VERY FAVORABLY</td>\n",
       "      <td>VERY FAVORABLY</td>\n",
       "      <td>VERY FAVORABLY</td>\n",
       "      <td>VERY FAVORABLY</td>\n",
       "      <td>SOMEWHAT FAVORABLY</td>\n",
       "      <td>VERY FAVORABLY</td>\n",
       "      <td>SOMEWHAT FAVORABLY</td>\n",
       "      <td>SOMEWHAT UNFAVORABLY</td>\n",
       "      <td>VERY FAVORABLY</td>\n",
       "      <td>...</td>\n",
       "      <td>VERY FAVORABLY</td>\n",
       "      <td>I DON'T UNDERSTAND THIS QUESTION</td>\n",
       "      <td>NO</td>\n",
       "      <td>NaN</td>\n",
       "      <td>YES</td>\n",
       "      <td>MALE</td>\n",
       "      <td>18-29</td>\n",
       "      <td>$100,000 - $149,999</td>\n",
       "      <td>SOME COLLEGE OR ASSOCIATE DEGREE</td>\n",
       "      <td>WEST NORTH CENTRAL</td>\n",
       "    </tr>\n",
       "    <tr>\n",
       "      <th>5</th>\n",
       "      <td>VERY FAVORABLY</td>\n",
       "      <td>SOMEWHAT FAVORABLY</td>\n",
       "      <td>SOMEWHAT FAVORABLY</td>\n",
       "      <td>SOMEWHAT UNFAVORABLY</td>\n",
       "      <td>VERY FAVORABLY</td>\n",
       "      <td>VERY UNFAVORABLY</td>\n",
       "      <td>SOMEWHAT FAVORABLY</td>\n",
       "      <td>NEITHER FAVORABLY NOR UNFAVORABLY (NEUTRAL)</td>\n",
       "      <td>VERY FAVORABLY</td>\n",
       "      <td>SOMEWHAT FAVORABLY</td>\n",
       "      <td>...</td>\n",
       "      <td>SOMEWHAT FAVORABLY</td>\n",
       "      <td>GREEDO</td>\n",
       "      <td>YES</td>\n",
       "      <td>NO</td>\n",
       "      <td>NO</td>\n",
       "      <td>MALE</td>\n",
       "      <td>18-29</td>\n",
       "      <td>$100,000 - $149,999</td>\n",
       "      <td>SOME COLLEGE OR ASSOCIATE DEGREE</td>\n",
       "      <td>WEST NORTH CENTRAL</td>\n",
       "    </tr>\n",
       "    <tr>\n",
       "      <th>6</th>\n",
       "      <td>VERY FAVORABLY</td>\n",
       "      <td>VERY FAVORABLY</td>\n",
       "      <td>VERY FAVORABLY</td>\n",
       "      <td>VERY FAVORABLY</td>\n",
       "      <td>VERY FAVORABLY</td>\n",
       "      <td>NEITHER FAVORABLY NOR UNFAVORABLY (NEUTRAL)</td>\n",
       "      <td>VERY FAVORABLY</td>\n",
       "      <td>NEITHER FAVORABLY NOR UNFAVORABLY (NEUTRAL)</td>\n",
       "      <td>SOMEWHAT FAVORABLY</td>\n",
       "      <td>SOMEWHAT FAVORABLY</td>\n",
       "      <td>...</td>\n",
       "      <td>VERY FAVORABLY</td>\n",
       "      <td>HAN</td>\n",
       "      <td>YES</td>\n",
       "      <td>NO</td>\n",
       "      <td>YES</td>\n",
       "      <td>MALE</td>\n",
       "      <td>18-29</td>\n",
       "      <td>$25,000 - $49,999</td>\n",
       "      <td>BACHELOR DEGREE</td>\n",
       "      <td>MIDDLE ATLANTIC</td>\n",
       "    </tr>\n",
       "    <tr>\n",
       "      <th>7</th>\n",
       "      <td>VERY FAVORABLY</td>\n",
       "      <td>VERY FAVORABLY</td>\n",
       "      <td>SOMEWHAT FAVORABLY</td>\n",
       "      <td>SOMEWHAT FAVORABLY</td>\n",
       "      <td>VERY FAVORABLY</td>\n",
       "      <td>VERY FAVORABLY</td>\n",
       "      <td>VERY FAVORABLY</td>\n",
       "      <td>VERY FAVORABLY</td>\n",
       "      <td>VERY FAVORABLY</td>\n",
       "      <td>SOMEWHAT FAVORABLY</td>\n",
       "      <td>...</td>\n",
       "      <td>VERY FAVORABLY</td>\n",
       "      <td>HAN</td>\n",
       "      <td>YES</td>\n",
       "      <td>NO</td>\n",
       "      <td>NO</td>\n",
       "      <td>MALE</td>\n",
       "      <td>18-29</td>\n",
       "      <td>NaN</td>\n",
       "      <td>HIGH SCHOOL DEGREE</td>\n",
       "      <td>EAST NORTH CENTRAL</td>\n",
       "    </tr>\n",
       "  </tbody>\n",
       "</table>\n",
       "<p>5 rows × 23 columns</p>\n",
       "</div>"
      ],
      "text/plain": [
       "  Familiarity|Han Solo Familiarity|Luke Skywalker  \\\n",
       "1       VERY FAVORABLY             VERY FAVORABLY   \n",
       "4       VERY FAVORABLY             VERY FAVORABLY   \n",
       "5       VERY FAVORABLY         SOMEWHAT FAVORABLY   \n",
       "6       VERY FAVORABLY             VERY FAVORABLY   \n",
       "7       VERY FAVORABLY             VERY FAVORABLY   \n",
       "\n",
       "  Familiarity|Princess Leia Organa Familiarity|Anakin Skywalker  \\\n",
       "1                   VERY FAVORABLY               VERY FAVORABLY   \n",
       "4                   VERY FAVORABLY               VERY FAVORABLY   \n",
       "5               SOMEWHAT FAVORABLY         SOMEWHAT UNFAVORABLY   \n",
       "6                   VERY FAVORABLY               VERY FAVORABLY   \n",
       "7               SOMEWHAT FAVORABLY           SOMEWHAT FAVORABLY   \n",
       "\n",
       "  Familiarity|Obi Wan Kenobi                Familiarity|Emperor Palpatine  \\\n",
       "1             VERY FAVORABLY                               VERY FAVORABLY   \n",
       "4             VERY FAVORABLY                           SOMEWHAT FAVORABLY   \n",
       "5             VERY FAVORABLY                             VERY UNFAVORABLY   \n",
       "6             VERY FAVORABLY  NEITHER FAVORABLY NOR UNFAVORABLY (NEUTRAL)   \n",
       "7             VERY FAVORABLY                               VERY FAVORABLY   \n",
       "\n",
       "  Familiarity|Darth Vader                 Familiarity|Lando Calrissian  \\\n",
       "1          VERY FAVORABLY                             UNFAMILIAR (N/A)   \n",
       "4          VERY FAVORABLY                           SOMEWHAT FAVORABLY   \n",
       "5      SOMEWHAT FAVORABLY  NEITHER FAVORABLY NOR UNFAVORABLY (NEUTRAL)   \n",
       "6          VERY FAVORABLY  NEITHER FAVORABLY NOR UNFAVORABLY (NEUTRAL)   \n",
       "7          VERY FAVORABLY                               VERY FAVORABLY   \n",
       "\n",
       "  Familiarity|Boba Fett   Familiarity|C-3P0  ...    Familiarity|Yoda  \\\n",
       "1      UNFAMILIAR (N/A)      VERY FAVORABLY  ...      VERY FAVORABLY   \n",
       "4  SOMEWHAT UNFAVORABLY      VERY FAVORABLY  ...      VERY FAVORABLY   \n",
       "5        VERY FAVORABLY  SOMEWHAT FAVORABLY  ...  SOMEWHAT FAVORABLY   \n",
       "6    SOMEWHAT FAVORABLY  SOMEWHAT FAVORABLY  ...      VERY FAVORABLY   \n",
       "7        VERY FAVORABLY  SOMEWHAT FAVORABLY  ...      VERY FAVORABLY   \n",
       "\n",
       "        Which character shot first?  \\\n",
       "1  I DON'T UNDERSTAND THIS QUESTION   \n",
       "4  I DON'T UNDERSTAND THIS QUESTION   \n",
       "5                            GREEDO   \n",
       "6                               HAN   \n",
       "7                               HAN   \n",
       "\n",
       "  Are you familiar with the Expanded Universe?  \\\n",
       "1                                          YES   \n",
       "4                                           NO   \n",
       "5                                          YES   \n",
       "6                                          YES   \n",
       "7                                          YES   \n",
       "\n",
       "  Do you consider yourself to be a fan of the Expanded Universe?æ  \\\n",
       "1                                                 NO                 \n",
       "4                                                NaN                 \n",
       "5                                                 NO                 \n",
       "6                                                 NO                 \n",
       "7                                                 NO                 \n",
       "\n",
       "  Do you consider yourself to be a fan of the Star Trek franchise? Gender  \\\n",
       "1                                                 NO                 MALE   \n",
       "4                                                YES                 MALE   \n",
       "5                                                 NO                 MALE   \n",
       "6                                                YES                 MALE   \n",
       "7                                                 NO                 MALE   \n",
       "\n",
       "     Age     Household Income                         Education  \\\n",
       "1  18-29                  NaN                HIGH SCHOOL DEGREE   \n",
       "4  18-29  $100,000 - $149,999  SOME COLLEGE OR ASSOCIATE DEGREE   \n",
       "5  18-29  $100,000 - $149,999  SOME COLLEGE OR ASSOCIATE DEGREE   \n",
       "6  18-29    $25,000 - $49,999                   BACHELOR DEGREE   \n",
       "7  18-29                  NaN                HIGH SCHOOL DEGREE   \n",
       "\n",
       "  Location (Census Region)  \n",
       "1           SOUTH ATLANTIC  \n",
       "4       WEST NORTH CENTRAL  \n",
       "5       WEST NORTH CENTRAL  \n",
       "6          MIDDLE ATLANTIC  \n",
       "7       EAST NORTH CENTRAL  \n",
       "\n",
       "[5 rows x 23 columns]"
      ]
     },
     "execution_count": 14,
     "metadata": {},
     "output_type": "execute_result"
    }
   ],
   "source": [
    "ques3 = starwars[starwars.columns[15:]]\n",
    "ques3.head()"
   ]
  },
  {
   "cell_type": "code",
   "execution_count": 15,
   "id": "ee77c13d",
   "metadata": {},
   "outputs": [],
   "source": [
    "ques3.dropna(inplace = True)"
   ]
  },
  {
   "cell_type": "code",
   "execution_count": 16,
   "id": "1a3cb0fb",
   "metadata": {},
   "outputs": [],
   "source": [
    "starwars.iloc[:,9:15] = starwars.iloc[:,9:15].astype(float)"
   ]
  },
  {
   "cell_type": "code",
   "execution_count": 17,
   "id": "7a7545a7",
   "metadata": {},
   "outputs": [
    {
     "data": {
      "text/plain": [
       "{'mean': {'Rank|Movie1': 0.23597194388777556,\n",
       "  'Rank|Movie2': 0.23110893032384688,\n",
       "  'Rank|Movie3': 0.23511755877938967,\n",
       "  'Rank|Movie4': 0.3488888888888889,\n",
       "  'Rank|Movie5': 0.4201605709188225,\n",
       "  'Rank|Movie6': 0.3410572049239681}}"
      ]
     },
     "execution_count": 17,
     "metadata": {},
     "output_type": "execute_result"
    }
   ],
   "source": [
    "cols = ['Rank|Movie1','Rank|Movie2','Rank|Movie3','Rank|Movie4','Rank|Movie5','Rank|Movie6']\n",
    "avg = {}\n",
    "data = {}\n",
    "for col in cols:\n",
    "    avg[col] = (starwars[col].mean())**-1 #(below for explaination)\n",
    "data['mean'] = avg\n",
    "data   "
   ]
  },
  {
   "cell_type": "code",
   "execution_count": 18,
   "id": "1863a3bb",
   "metadata": {},
   "outputs": [
    {
     "data": {
      "image/png": "[encoded data removed]",
      "text/plain": [
       "<Figure size 640x480 with 1 Axes>"
      ]
     },
     "metadata": {},
     "output_type": "display_data"
    },
    {
     "data": {
      "text/plain": [
       "<function matplotlib.pyplot.xticks(ticks=None, labels=None, *, minor=False, **kwargs)>"
      ]
     },
     "execution_count": 18,
     "metadata": {},
     "output_type": "execute_result"
    }
   ],
   "source": [
    "rank = sorted(data['mean'].items())\n",
    "\n",
    "plt.bar(range(len(data['mean'])), [x[1] for x in rank], align = 'center')\n",
    "plt.xticks(range(len(data['mean'])), ['Movie1','Movie2','Movie3','Movie4','Movie5','Movie6'])\n",
    "plt.ylabel('Ranking')\n",
    "plt.title('Comparison of ranks from Movie 1-6')\n",
    "plt.show()\n",
    "plt.xticks"
   ]
  },
  {
   "cell_type": "code",
   "execution_count": 19,
   "id": "4f58f028",
   "metadata": {},
   "outputs": [],
   "source": [
    "copy1 = starwars[['Do you consider yourself to be a fan of the Star Wars film franchise?','Age']]\n"
   ]
  },
  {
   "cell_type": "code",
   "execution_count": 20,
   "id": "ddbf456d",
   "metadata": {},
   "outputs": [],
   "source": [
    "copy1.rename(columns = {'Do you consider yourself to be a fan of the Star Wars film franchise?' : 'outcome'},inplace = True)"
   ]
  },
  {
   "cell_type": "code",
   "execution_count": 21,
   "id": "168f47c8",
   "metadata": {},
   "outputs": [
    {
     "data": {
      "text/html": [
       "<div>\n",
       "<style scoped>\n",
       "    .dataframe tbody tr th:only-of-type {\n",
       "        vertical-align: middle;\n",
       "    }\n",
       "\n",
       "    .dataframe tbody tr th {\n",
       "        vertical-align: top;\n",
       "    }\n",
       "\n",
       "    .dataframe thead th {\n",
       "        text-align: right;\n",
       "    }\n",
       "</style>\n",
       "<table border=\"1\" class=\"dataframe\">\n",
       "  <thead>\n",
       "    <tr style=\"text-align: right;\">\n",
       "      <th></th>\n",
       "      <th>Age</th>\n",
       "    </tr>\n",
       "  </thead>\n",
       "  <tbody>\n",
       "    <tr>\n",
       "      <th>30-44</th>\n",
       "      <td>141</td>\n",
       "    </tr>\n",
       "    <tr>\n",
       "      <th>18-29</th>\n",
       "      <td>128</td>\n",
       "    </tr>\n",
       "    <tr>\n",
       "      <th>45-60</th>\n",
       "      <td>122</td>\n",
       "    </tr>\n",
       "    <tr>\n",
       "      <th>&gt; 60</th>\n",
       "      <td>72</td>\n",
       "    </tr>\n",
       "  </tbody>\n",
       "</table>\n",
       "</div>"
      ],
      "text/plain": [
       "       Age\n",
       "30-44  141\n",
       "18-29  128\n",
       "45-60  122\n",
       "> 60    72"
      ]
     },
     "execution_count": 21,
     "metadata": {},
     "output_type": "execute_result"
    }
   ],
   "source": [
    "pd.DataFrame(copy1.Age.value_counts())"
   ]
  },
  {
   "cell_type": "code",
   "execution_count": 22,
   "id": "e0671edd",
   "metadata": {},
   "outputs": [
    {
     "data": {
      "text/html": [
       "<div>\n",
       "<style scoped>\n",
       "    .dataframe tbody tr th:only-of-type {\n",
       "        vertical-align: middle;\n",
       "    }\n",
       "\n",
       "    .dataframe tbody tr th {\n",
       "        vertical-align: top;\n",
       "    }\n",
       "\n",
       "    .dataframe thead th {\n",
       "        text-align: right;\n",
       "    }\n",
       "</style>\n",
       "<table border=\"1\" class=\"dataframe\">\n",
       "  <thead>\n",
       "    <tr style=\"text-align: right;\">\n",
       "      <th></th>\n",
       "      <th>outcome</th>\n",
       "    </tr>\n",
       "  </thead>\n",
       "  <tbody>\n",
       "    <tr>\n",
       "      <th>YES</th>\n",
       "      <td>411</td>\n",
       "    </tr>\n",
       "    <tr>\n",
       "      <th>NO</th>\n",
       "      <td>60</td>\n",
       "    </tr>\n",
       "  </tbody>\n",
       "</table>\n",
       "</div>"
      ],
      "text/plain": [
       "     outcome\n",
       "YES      411\n",
       "NO        60"
      ]
     },
     "execution_count": 22,
     "metadata": {},
     "output_type": "execute_result"
    }
   ],
   "source": [
    "pd.DataFrame(copy1.outcome.value_counts())"
   ]
  },
  {
   "cell_type": "code",
   "execution_count": 23,
   "id": "2c9e4187",
   "metadata": {},
   "outputs": [
    {
     "data": {
      "text/plain": [
       "Age    outcome\n",
       "18-29  YES        0.890625\n",
       "       NO         0.109375\n",
       "30-44  YES        0.858156\n",
       "       NO         0.141844\n",
       "45-60  YES        0.877049\n",
       "       NO         0.122951\n",
       "> 60   YES        0.847222\n",
       "       NO         0.152778\n",
       "Name: outcome, dtype: float64"
      ]
     },
     "execution_count": 23,
     "metadata": {},
     "output_type": "execute_result"
    }
   ],
   "source": [
    "stWars = copy1.groupby(\"Age\").outcome.value_counts(normalize = True)\n",
    "stWars"
   ]
  },
  {
   "cell_type": "code",
   "execution_count": 24,
   "id": "4df34c97",
   "metadata": {},
   "outputs": [
    {
     "data": {
      "text/plain": [
       "MultiIndex([('18-29', 'YES'),\n",
       "            ('18-29',  'NO'),\n",
       "            ('30-44', 'YES'),\n",
       "            ('30-44',  'NO'),\n",
       "            ('45-60', 'YES'),\n",
       "            ('45-60',  'NO'),\n",
       "            ( '> 60', 'YES'),\n",
       "            ( '> 60',  'NO')],\n",
       "           names=['Age', 'outcome'])"
      ]
     },
     "execution_count": 24,
     "metadata": {},
     "output_type": "execute_result"
    }
   ],
   "source": [
    "stWars.index\n"
   ]
  },
  {
   "cell_type": "code",
   "execution_count": 25,
   "id": "4eef13d8",
   "metadata": {},
   "outputs": [
    {
     "data": {
      "text/html": [
       "<div>\n",
       "<style scoped>\n",
       "    .dataframe tbody tr th:only-of-type {\n",
       "        vertical-align: middle;\n",
       "    }\n",
       "\n",
       "    .dataframe tbody tr th {\n",
       "        vertical-align: top;\n",
       "    }\n",
       "\n",
       "    .dataframe thead th {\n",
       "        text-align: right;\n",
       "    }\n",
       "</style>\n",
       "<table border=\"1\" class=\"dataframe\">\n",
       "  <thead>\n",
       "    <tr style=\"text-align: right;\">\n",
       "      <th>outcome</th>\n",
       "      <th>NO</th>\n",
       "      <th>YES</th>\n",
       "    </tr>\n",
       "    <tr>\n",
       "      <th>Age</th>\n",
       "      <th></th>\n",
       "      <th></th>\n",
       "    </tr>\n",
       "  </thead>\n",
       "  <tbody>\n",
       "    <tr>\n",
       "      <th>18-29</th>\n",
       "      <td>0.109375</td>\n",
       "      <td>0.890625</td>\n",
       "    </tr>\n",
       "    <tr>\n",
       "      <th>30-44</th>\n",
       "      <td>0.141844</td>\n",
       "      <td>0.858156</td>\n",
       "    </tr>\n",
       "    <tr>\n",
       "      <th>45-60</th>\n",
       "      <td>0.122951</td>\n",
       "      <td>0.877049</td>\n",
       "    </tr>\n",
       "    <tr>\n",
       "      <th>&gt; 60</th>\n",
       "      <td>0.152778</td>\n",
       "      <td>0.847222</td>\n",
       "    </tr>\n",
       "  </tbody>\n",
       "</table>\n",
       "</div>"
      ],
      "text/plain": [
       "outcome        NO       YES\n",
       "Age                        \n",
       "18-29    0.109375  0.890625\n",
       "30-44    0.141844  0.858156\n",
       "45-60    0.122951  0.877049\n",
       "> 60     0.152778  0.847222"
      ]
     },
     "execution_count": 25,
     "metadata": {},
     "output_type": "execute_result"
    }
   ],
   "source": [
    "stWars.unstack()"
   ]
  },
  {
   "cell_type": "code",
   "execution_count": 26,
   "id": "b46b0ef4",
   "metadata": {},
   "outputs": [
    {
     "data": {
      "text/plain": [
       "Text(0.5, 1.0, 'Age')"
      ]
     },
     "execution_count": 26,
     "metadata": {},
     "output_type": "execute_result"
    },
    {
     "data": {
      "image/png": "[encoded data removed]",
      "text/plain": [
       "<Figure size 1000x400 with 2 Axes>"
      ]
     },
     "metadata": {},
     "output_type": "display_data"
    }
   ],
   "source": [
    "plt.figure(figsize=(10,4))\n",
    "\n",
    "plt.subplot(1,2,1);copy1.outcome.value_counts().plot(kind='bar', color=['C0','C1']); plt.title('Star War Fan')\n",
    "plt.subplot(1,2,2);copy1.Age.value_counts().plot(kind='bar', color=['C3','C4','C5','C6']); plt.title('Age')"
   ]
  },
  {
   "cell_type": "code",
   "execution_count": 27,
   "id": "49132abb",
   "metadata": {},
   "outputs": [
    {
     "data": {
      "text/plain": [
       "<Axes: title={'center': 'Age vs Star War Fans'}, xlabel='Age'>"
      ]
     },
     "execution_count": 27,
     "metadata": {},
     "output_type": "execute_result"
    },
    {
     "data": {
      "image/png": "[encoded data removed]",
      "text/plain": [
       "<Figure size 640x480 with 1 Axes>"
      ]
     },
     "metadata": {},
     "output_type": "display_data"
    }
   ],
   "source": [
    "stWars.unstack().plot(kind = 'bar', stacked = True, title = 'Age vs Star War Fans')"
   ]
  },
  {
   "cell_type": "code",
   "execution_count": 28,
   "id": "53c2ddd7",
   "metadata": {},
   "outputs": [],
   "source": [
    "copy2 = starwars[['Do you consider yourself to be a fan of the Star Trek franchise?','Age']]"
   ]
  },
  {
   "cell_type": "code",
   "execution_count": 29,
   "id": "f43a1d7b",
   "metadata": {},
   "outputs": [],
   "source": [
    "copy2.rename(columns = {'Do you consider yourself to be a fan of the Star Trek franchise?' : 'result'},inplace = True)"
   ]
  },
  {
   "cell_type": "code",
   "execution_count": 30,
   "id": "6b4dc165",
   "metadata": {},
   "outputs": [
    {
     "data": {
      "text/plain": [
       "Age    result\n",
       "18-29  NO        0.562500\n",
       "       YES       0.437500\n",
       "30-44  YES       0.574468\n",
       "       NO        0.425532\n",
       "45-60  YES       0.754098\n",
       "       NO        0.245902\n",
       "> 60   YES       0.722222\n",
       "       NO        0.277778\n",
       "Name: result, dtype: float64"
      ]
     },
     "execution_count": 30,
     "metadata": {},
     "output_type": "execute_result"
    }
   ],
   "source": [
    "stTrek = copy2.groupby(\"Age\").result.value_counts(normalize = True)\n",
    "stTrek"
   ]
  },
  {
   "cell_type": "code",
   "execution_count": 31,
   "id": "d9b8da4c",
   "metadata": {},
   "outputs": [
    {
     "data": {
      "text/plain": [
       "MultiIndex([('18-29',  'NO'),\n",
       "            ('18-29', 'YES'),\n",
       "            ('30-44', 'YES'),\n",
       "            ('30-44',  'NO'),\n",
       "            ('45-60', 'YES'),\n",
       "            ('45-60',  'NO'),\n",
       "            ( '> 60', 'YES'),\n",
       "            ( '> 60',  'NO')],\n",
       "           names=['Age', 'result'])"
      ]
     },
     "execution_count": 31,
     "metadata": {},
     "output_type": "execute_result"
    }
   ],
   "source": [
    "stTrek.index"
   ]
  },
  {
   "cell_type": "code",
   "execution_count": 32,
   "id": "b861cead",
   "metadata": {},
   "outputs": [
    {
     "data": {
      "text/html": [
       "<div>\n",
       "<style scoped>\n",
       "    .dataframe tbody tr th:only-of-type {\n",
       "        vertical-align: middle;\n",
       "    }\n",
       "\n",
       "    .dataframe tbody tr th {\n",
       "        vertical-align: top;\n",
       "    }\n",
       "\n",
       "    .dataframe thead th {\n",
       "        text-align: right;\n",
       "    }\n",
       "</style>\n",
       "<table border=\"1\" class=\"dataframe\">\n",
       "  <thead>\n",
       "    <tr style=\"text-align: right;\">\n",
       "      <th>result</th>\n",
       "      <th>NO</th>\n",
       "      <th>YES</th>\n",
       "    </tr>\n",
       "    <tr>\n",
       "      <th>Age</th>\n",
       "      <th></th>\n",
       "      <th></th>\n",
       "    </tr>\n",
       "  </thead>\n",
       "  <tbody>\n",
       "    <tr>\n",
       "      <th>18-29</th>\n",
       "      <td>0.562500</td>\n",
       "      <td>0.437500</td>\n",
       "    </tr>\n",
       "    <tr>\n",
       "      <th>30-44</th>\n",
       "      <td>0.425532</td>\n",
       "      <td>0.574468</td>\n",
       "    </tr>\n",
       "    <tr>\n",
       "      <th>45-60</th>\n",
       "      <td>0.245902</td>\n",
       "      <td>0.754098</td>\n",
       "    </tr>\n",
       "    <tr>\n",
       "      <th>&gt; 60</th>\n",
       "      <td>0.277778</td>\n",
       "      <td>0.722222</td>\n",
       "    </tr>\n",
       "  </tbody>\n",
       "</table>\n",
       "</div>"
      ],
      "text/plain": [
       "result        NO       YES\n",
       "Age                       \n",
       "18-29   0.562500  0.437500\n",
       "30-44   0.425532  0.574468\n",
       "45-60   0.245902  0.754098\n",
       "> 60    0.277778  0.722222"
      ]
     },
     "execution_count": 32,
     "metadata": {},
     "output_type": "execute_result"
    }
   ],
   "source": [
    "stTrek.unstack()\n"
   ]
  },
  {
   "cell_type": "code",
   "execution_count": 33,
   "id": "def5491e",
   "metadata": {},
   "outputs": [
    {
     "data": {
      "text/plain": [
       "Text(0.5, 1.0, 'Age')"
      ]
     },
     "execution_count": 33,
     "metadata": {},
     "output_type": "execute_result"
    },
    {
     "data": {
      "image/png": "[encoded data removed]",
      "text/plain": [
       "<Figure size 1000x400 with 2 Axes>"
      ]
     },
     "metadata": {},
     "output_type": "display_data"
    }
   ],
   "source": [
    "plt.figure(figsize=(10,4))\n",
    "\n",
    "plt.subplot(1,2,1);copy2.result.value_counts().plot(kind='bar', color=['C0','C1']); plt.title('Star Trek Fan')\n",
    "plt.subplot(1,2,2);copy2.Age.value_counts().plot(kind='bar', color=['C3','C4','C5','C6']); plt.title('Age')"
   ]
  },
  {
   "cell_type": "code",
   "execution_count": 34,
   "id": "71706317",
   "metadata": {},
   "outputs": [
    {
     "data": {
      "text/plain": [
       "<Axes: title={'center': 'Age vs Star Trek Fans'}, xlabel='Age'>"
      ]
     },
     "execution_count": 34,
     "metadata": {},
     "output_type": "execute_result"
    },
    {
     "data": {
      "image/png": "[encoded data removed]",
      "text/plain": [
       "<Figure size 640x480 with 1 Axes>"
      ]
     },
     "metadata": {},
     "output_type": "display_data"
    }
   ],
   "source": [
    "stTrek.unstack().plot(kind = 'bar', stacked = True, title = 'Age vs Star Trek Fans')"
   ]
  },
  {
   "cell_type": "code",
   "execution_count": 35,
   "id": "f1efa176",
   "metadata": {},
   "outputs": [],
   "source": [
    "copy3 = starwars[['Do you consider yourself to be a fan of the Star Wars film franchise?','Which character shot first?']]\n",
    "\n",
    "copy3.rename(columns = {'Do you consider yourself to be a fan of the Star Wars film franchise?' : 'fan','Which character shot first?' : 'firstShot'},inplace = True)"
   ]
  },
  {
   "cell_type": "code",
   "execution_count": 36,
   "id": "d5316678",
   "metadata": {},
   "outputs": [
    {
     "data": {
      "text/html": [
       "<div>\n",
       "<style scoped>\n",
       "    .dataframe tbody tr th:only-of-type {\n",
       "        vertical-align: middle;\n",
       "    }\n",
       "\n",
       "    .dataframe tbody tr th {\n",
       "        vertical-align: top;\n",
       "    }\n",
       "\n",
       "    .dataframe thead th {\n",
       "        text-align: right;\n",
       "    }\n",
       "</style>\n",
       "<table border=\"1\" class=\"dataframe\">\n",
       "  <thead>\n",
       "    <tr style=\"text-align: right;\">\n",
       "      <th></th>\n",
       "      <th>firstShot</th>\n",
       "    </tr>\n",
       "  </thead>\n",
       "  <tbody>\n",
       "    <tr>\n",
       "      <th>HAN</th>\n",
       "      <td>235</td>\n",
       "    </tr>\n",
       "    <tr>\n",
       "      <th>GREEDO</th>\n",
       "      <td>128</td>\n",
       "    </tr>\n",
       "    <tr>\n",
       "      <th>I DON'T UNDERSTAND THIS QUESTION</th>\n",
       "      <td>101</td>\n",
       "    </tr>\n",
       "  </tbody>\n",
       "</table>\n",
       "</div>"
      ],
      "text/plain": [
       "                                  firstShot\n",
       "HAN                                     235\n",
       "GREEDO                                  128\n",
       "I DON'T UNDERSTAND THIS QUESTION        101"
      ]
     },
     "execution_count": 36,
     "metadata": {},
     "output_type": "execute_result"
    }
   ],
   "source": [
    "pd.DataFrame(copy3.firstShot.value_counts())"
   ]
  },
  {
   "cell_type": "code",
   "execution_count": 37,
   "id": "5ca6c002",
   "metadata": {},
   "outputs": [
    {
     "data": {
      "text/plain": [
       "firstShot                         fan\n",
       "GREEDO                            YES    0.882812\n",
       "                                  NO     0.117188\n",
       "HAN                               YES    0.927660\n",
       "                                  NO     0.072340\n",
       "I DON'T UNDERSTAND THIS QUESTION  YES    0.722772\n",
       "                                  NO     0.277228\n",
       "Name: fan, dtype: float64"
      ]
     },
     "execution_count": 37,
     "metadata": {},
     "output_type": "execute_result"
    }
   ],
   "source": [
    "shot = copy3.groupby(\"firstShot\").fan.value_counts(normalize = True)\n",
    "shot"
   ]
  },
  {
   "cell_type": "code",
   "execution_count": 38,
   "id": "ea02ab2e",
   "metadata": {},
   "outputs": [
    {
     "data": {
      "text/html": [
       "<div>\n",
       "<style scoped>\n",
       "    .dataframe tbody tr th:only-of-type {\n",
       "        vertical-align: middle;\n",
       "    }\n",
       "\n",
       "    .dataframe tbody tr th {\n",
       "        vertical-align: top;\n",
       "    }\n",
       "\n",
       "    .dataframe thead th {\n",
       "        text-align: right;\n",
       "    }\n",
       "</style>\n",
       "<table border=\"1\" class=\"dataframe\">\n",
       "  <thead>\n",
       "    <tr style=\"text-align: right;\">\n",
       "      <th>fan</th>\n",
       "      <th>NO</th>\n",
       "      <th>YES</th>\n",
       "    </tr>\n",
       "    <tr>\n",
       "      <th>firstShot</th>\n",
       "      <th></th>\n",
       "      <th></th>\n",
       "    </tr>\n",
       "  </thead>\n",
       "  <tbody>\n",
       "    <tr>\n",
       "      <th>GREEDO</th>\n",
       "      <td>0.117188</td>\n",
       "      <td>0.882812</td>\n",
       "    </tr>\n",
       "    <tr>\n",
       "      <th>HAN</th>\n",
       "      <td>0.072340</td>\n",
       "      <td>0.927660</td>\n",
       "    </tr>\n",
       "    <tr>\n",
       "      <th>I DON'T UNDERSTAND THIS QUESTION</th>\n",
       "      <td>0.277228</td>\n",
       "      <td>0.722772</td>\n",
       "    </tr>\n",
       "  </tbody>\n",
       "</table>\n",
       "</div>"
      ],
      "text/plain": [
       "fan                                     NO       YES\n",
       "firstShot                                           \n",
       "GREEDO                            0.117188  0.882812\n",
       "HAN                               0.072340  0.927660\n",
       "I DON'T UNDERSTAND THIS QUESTION  0.277228  0.722772"
      ]
     },
     "execution_count": 38,
     "metadata": {},
     "output_type": "execute_result"
    }
   ],
   "source": [
    "shot.unstack()"
   ]
  },
  {
   "cell_type": "code",
   "execution_count": 39,
   "id": "95b35af8",
   "metadata": {},
   "outputs": [
    {
     "data": {
      "text/plain": [
       "Text(0.5, 1.0, 'Which Charecter Shot First?')"
      ]
     },
     "execution_count": 39,
     "metadata": {},
     "output_type": "execute_result"
    },
    {
     "data": {
      "image/png": "[encoded data removed]",
      "text/plain": [
       "<Figure size 1000x400 with 2 Axes>"
      ]
     },
     "metadata": {},
     "output_type": "display_data"
    }
   ],
   "source": [
    "plt.figure(figsize=(10,4))\n",
    "\n",
    "plt.subplot(1,2,1);copy3.fan.value_counts().plot(kind='bar', color=['C0','C1']); plt.title('Star War Fan')\n",
    "plt.subplot(1,2,2);copy3.firstShot.value_counts().plot(kind='bar', color=['C3','C4','C5']); plt.title('Which Charecter Shot First?')"
   ]
  },
  {
   "cell_type": "code",
   "execution_count": 48,
   "id": "8f26dc4a",
   "metadata": {},
   "outputs": [
    {
     "data": {
      "image/png": "[encoded data removed]",
      "text/plain": [
       "<Figure size 640x480 with 1 Axes>"
      ]
     },
     "metadata": {},
     "output_type": "display_data"
    }
   ],
   "source": [
    "starwars['Household Income'].hist()\n",
    "\n",
    "# Rotate the x-axis labels to 45 degrees\n",
    "plt.xticks(rotation=45)\n",
    "\n",
    "# Display the plot\n",
    "plt.show()"
   ]
  },
  {
   "cell_type": "code",
   "execution_count": 49,
   "id": "9c11437b",
   "metadata": {},
   "outputs": [
    {
     "data": {
      "text/plain": [
       "Index(['RespondentID',\n",
       "       'Have you seen any of the 6 films in the Star Wars franchise?',\n",
       "       'Do you consider yourself to be a fan of the Star Wars film franchise?',\n",
       "       'Watched|Movie1', 'Watched|Movie2', 'Watched|Movie3', 'Watched|Movie4',\n",
       "       'Watched|Movie5', 'Watched|Movie6', 'Rank|Movie1', 'Rank|Movie2',\n",
       "       'Rank|Movie3', 'Rank|Movie4', 'Rank|Movie5', 'Rank|Movie6',\n",
       "       'Familiarity|Han Solo', 'Familiarity|Luke Skywalker',\n",
       "       'Familiarity|Princess Leia Organa', 'Familiarity|Anakin Skywalker',\n",
       "       'Familiarity|Obi Wan Kenobi', 'Familiarity|Emperor Palpatine',\n",
       "       'Familiarity|Darth Vader', 'Familiarity|Lando Calrissian',\n",
       "       'Familiarity|Boba Fett', 'Familiarity|C-3P0', 'Familiarity|R2 D2',\n",
       "       'Familiarity|Jar Jar Binks', 'Familiarity|Padme Amidala',\n",
       "       'Familiarity|Yoda', 'Which character shot first?',\n",
       "       'Are you familiar with the Expanded Universe?',\n",
       "       'Do you consider yourself to be a fan of the Expanded Universe?æ',\n",
       "       'Do you consider yourself to be a fan of the Star Trek franchise?',\n",
       "       'Gender', 'Age', 'Household Income', 'Education',\n",
       "       'Location (Census Region)'],\n",
       "      dtype='object')"
      ]
     },
     "execution_count": 49,
     "metadata": {},
     "output_type": "execute_result"
    }
   ],
   "source": [
    "starwars.columns"
   ]
  },
  {
   "cell_type": "code",
   "execution_count": 51,
   "id": "78354f51",
   "metadata": {},
   "outputs": [
    {
     "data": {
      "image/png": "[encoded data removed]",
      "text/plain": [
       "<Figure size 640x480 with 1 Axes>"
      ]
     },
     "metadata": {},
     "output_type": "display_data"
    }
   ],
   "source": [
    "starwars['Location (Census Region)'].hist()\n",
    "\n",
    "# Rotate the x-axis labels to 45 degrees\n",
    "plt.xticks(rotation=45)\n",
    "\n",
    "# Display the plot\n",
    "plt.show()"
   ]
  },
  {
   "cell_type": "code",
   "execution_count": 52,
   "id": "80fbc9c7",
   "metadata": {},
   "outputs": [
    {
     "data": {
      "image/png": "[encoded data removed]",
      "text/plain": [
       "<Figure size 640x480 with 1 Axes>"
      ]
     },
     "metadata": {},
     "output_type": "display_data"
    }
   ],
   "source": [
    "starwars['Are you familiar with the Expanded Universe?'].hist()\n",
    "\n",
    "# Rotate the x-axis labels to 45 degrees\n",
    "plt.xticks(rotation=45)\n",
    "\n",
    "# Display the plot\n",
    "plt.show()"
   ]
  },
  {
   "cell_type": "code",
   "execution_count": 41,
   "id": "5737089e",
   "metadata": {},
   "outputs": [],
   "source": [
    "starwars.to_csv('swdata.csv', encoding='latin-1',index = False)"
   ]
  },
  {
   "cell_type": "code",
   "execution_count": 42,
   "id": "38fdf98f",
   "metadata": {},
   "outputs": [
    {
     "name": "stdout",
     "output_type": "stream",
     "text": [
      "/Users/cpsantos/Documents/data_eng/data_engineering_project/Udacity-Data-Engineering-Projects-master/Data_Api_to_Postgres\r\n"
     ]
    }
   ],
   "source": [
    "!pwd\n"
   ]
  },
  {
   "cell_type": "code",
   "execution_count": 57,
   "id": "5f5e098e",
   "metadata": {},
   "outputs": [
    {
     "ename": "ValueError",
     "evalue": "list.remove(x): x not in list",
     "output_type": "error",
     "traceback": [
      "\u001b[0;31m---------------------------------------------------------------------------\u001b[0m",
      "\u001b[0;31mValueError\u001b[0m                                Traceback (most recent call last)",
      "Cell \u001b[0;32mIn[57], line 31\u001b[0m\n\u001b[1;32m     29\u001b[0m \u001b[38;5;66;03m# Columns to update\u001b[39;00m\n\u001b[1;32m     30\u001b[0m columns \u001b[38;5;241m=\u001b[39m starwars\u001b[38;5;241m.\u001b[39mcolumns\u001b[38;5;241m.\u001b[39mtolist()\n\u001b[0;32m---> 31\u001b[0m \u001b[43mcolumns\u001b[49m\u001b[38;5;241;43m.\u001b[39;49m\u001b[43mremove\u001b[49m\u001b[43m(\u001b[49m\u001b[43mprimary_key\u001b[49m\u001b[43m)\u001b[49m\n\u001b[1;32m     33\u001b[0m \u001b[38;5;66;03m# Generate SQL for updating columns\u001b[39;00m\n\u001b[1;32m     34\u001b[0m update_columns \u001b[38;5;241m=\u001b[39m \u001b[38;5;124m'\u001b[39m\u001b[38;5;124m, \u001b[39m\u001b[38;5;124m'\u001b[39m\u001b[38;5;241m.\u001b[39mjoin([\u001b[38;5;124mf\u001b[39m\u001b[38;5;124m\"\u001b[39m\u001b[38;5;132;01m{\u001b[39;00mcol\u001b[38;5;132;01m}\u001b[39;00m\u001b[38;5;124m = EXCLUDED.\u001b[39m\u001b[38;5;132;01m{\u001b[39;00mcol\u001b[38;5;132;01m}\u001b[39;00m\u001b[38;5;124m\"\u001b[39m \u001b[38;5;28;01mfor\u001b[39;00m col \u001b[38;5;129;01min\u001b[39;00m columns])\n",
      "\u001b[0;31mValueError\u001b[0m: list.remove(x): x not in list"
     ]
    }
   ],
   "source": [
    "import pandas as pd\n",
    "from sqlalchemy import create_engine\n",
    "\n",
    "# Replace the following with your database credentials\n",
    "username = 'postgres'\n",
    "password = 'Alexanderdumas!2'\n",
    "hostname = 'database-1.cfmkgcbabzvx.us-east-2.rds.amazonaws.com'\n",
    "port = '5432'\n",
    "database = 'starwars'\n",
    "\n",
    "# Create a database connection\n",
    "engine = create_engine(f'postgresql+psycopg2://{username}:{password}@{hostname}:{port}/{database}')\n",
    "\n",
    "# Assuming you have a DataFrame named 'starwars'\n",
    "# Make sure the DataFrame 'starwars' is defined here\n",
    "\n",
    "# Table name in PostgreSQL\n",
    "table_name = 'starwars'\n",
    "\n",
    "# The primary key column of your DataFrame/table\n",
    "primary_key = 'id'  # Change this to your primary key column\n",
    "\n",
    "# Upserting the DataFrame into PostgreSQL\n",
    "with engine.connect() as conn:\n",
    "    # Create a temporary table\n",
    "    temp_table_name = f\"{table_name}_temp\"\n",
    "    starwars.to_sql(temp_table_name, conn, if_exists='replace', index=False)\n",
    "\n",
    "    # Columns to update\n",
    "    columns = starwars.columns.tolist()\n",
    "    columns.remove(primary_key)\n",
    "\n",
    "    # Generate SQL for updating columns\n",
    "    update_columns = ', '.join([f\"{col} = EXCLUDED.{col}\" for col in columns])\n",
    "\n",
    "    # Prepare the upsert query\n",
    "    upsert_query = f\"\"\"\n",
    "    INSERT INTO {table_name} \n",
    "    SELECT * FROM {temp_table_name} \n",
    "    ON CONFLICT ({primary_key}) \n",
    "    DO UPDATE SET {update_columns};\n",
    "    \"\"\"\n",
    "\n",
    "    # Execute the upsert query\n",
    "    conn.execute(upsert_query)\n",
    "\n",
    "    # Drop the temporary table\n",
    "    conn.execute(f\"DROP TABLE IF EXISTS {temp_table_name};\")"
   ]
  },
  {
   "cell_type": "code",
   "execution_count": 56,
   "id": "f6b1ea93",
   "metadata": {},
   "outputs": [
    {
     "data": {
      "text/plain": [
       "(471, 38)"
      ]
     },
     "execution_count": 56,
     "metadata": {},
     "output_type": "execute_result"
    }
   ],
   "source": [
    "starwars.shape"
   ]
  },
  {
   "cell_type": "code",
   "execution_count": null,
   "id": "17d4d121",
   "metadata": {},
   "outputs": [],
   "source": []
  }
 ],
 "metadata": {
  "kernelspec": {
   "display_name": "Python 3 (ipykernel)",
   "language": "python",
   "name": "python3"
  },
  "language_info": {
   "codemirror_mode": {
    "name": "ipython",
    "version": 3
   },
   "file_extension": ".py",
   "mimetype": "text/x-python",
   "name": "python",
   "nbconvert_exporter": "python",
   "pygments_lexer": "ipython3",
   "version": "3.10.9"
  }
 },
 "nbformat": 4,
 "nbformat_minor": 5
}
